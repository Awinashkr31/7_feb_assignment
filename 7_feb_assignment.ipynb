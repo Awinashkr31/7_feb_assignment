{
 "cells": [
  {
   "cell_type": "code",
   "execution_count": 57,
   "id": "94dc7682-05a7-4b33-ad29-7f34ba3ee9e5",
   "metadata": {},
   "outputs": [],
   "source": [
    "# Q1. You are writing code for a company. The requirement of the company is that you create a python\n",
    "#     function that will check whether the password entered by the user is correct or not. The function should\n",
    "#     take the password as input and return the string “Valid Password” if the entered password follows the\n",
    "#     below-given password guidelines else it should return “Invalid Password”."
   ]
  },
  {
   "cell_type": "code",
   "execution_count": 54,
   "id": "27a69210-d833-4f45-b49c-35716c74ba2e",
   "metadata": {},
   "outputs": [],
   "source": [
    "import re\n",
    "\n",
    "def check_password(password):\n",
    "    # Check length of password\n",
    "    if len(password) != 10:\n",
    "        return \"Invalid Password\"\n",
    "\n",
    "    # Check number of uppercase and lowercase letters\n",
    "    if sum(1 for c in password if c.isupper()) < 2 or sum(1 for c in password if c.islower()) < 2:\n",
    "        return \"Invalid Password\"\n",
    "\n",
    "    # Check for at least a number and three special characters\n",
    "    if not re.search(r\"\\d\", password) or not re.search(r\"[!@#$%^&*()_+={};:'\\\"|,.<>/?\\\\-]\", password):\n",
    "        return \"Invalid Password\"\n",
    "    special_chars_count = sum(1 for c in password if c in \"!@#$%^&*()_+={};:'\\\"|,.<>/?\\\\-\")\n",
    "    if special_chars_count < 3:\n",
    "        return \"Invalid Password\"\n",
    "\n",
    "    # If all conditions are satisfied, return \"Valid Password\"\n",
    "    return \"Valid Password\"\n"
   ]
  },
  {
   "cell_type": "code",
   "execution_count": 56,
   "id": "247d46b4-cf44-47ae-80de-84fe4f937332",
   "metadata": {},
   "outputs": [
    {
     "name": "stdout",
     "output_type": "stream",
     "text": [
      "Invalid Password\n",
      "Invalid Password\n"
     ]
    }
   ],
   "source": [
    "password = \"Abcd12#$def\"\n",
    "result = check_password(password)\n",
    "print(result) \n",
    "\n",
    "password = \"Abcdefghij\"\n",
    "result = check_password(password)\n",
    "print(result) \n"
   ]
  },
  {
   "cell_type": "code",
   "execution_count": null,
   "id": "c3135423-1610-4f30-b8bd-ff7ab68b640b",
   "metadata": {},
   "outputs": [],
   "source": []
  },
  {
   "cell_type": "code",
   "execution_count": 58,
   "id": "a3798529-82c7-44d6-9921-f73fce457b25",
   "metadata": {},
   "outputs": [
    {
     "name": "stdout",
     "output_type": "stream",
     "text": [
      "True\n"
     ]
    }
   ],
   "source": [
    "\"\"\" Check if the string starts with a particular letter:\n",
    "    We can use a lambda function to check if the given string starts with a particular letter. The startswith()\n",
    "    function checks whether a string starts with the given prefix. Here's an example: \"\"\"\n",
    "\n",
    "string = \"hello world\"\n",
    "letter = \"h\"\n",
    "result = lambda string, letter: string.startswith(letter)\n",
    "print(result(string, letter)) # Output: True\n"
   ]
  },
  {
   "cell_type": "code",
   "execution_count": 59,
   "id": "5886b2bb-3105-4861-8d2c-8c2d1da59dc6",
   "metadata": {},
   "outputs": [
    {
     "name": "stdout",
     "output_type": "stream",
     "text": [
      "True\n"
     ]
    }
   ],
   "source": [
    "string = \"12345\"\n",
    "result = lambda string: string.isdigit()\n",
    "print(result(string)) # Output: True\n"
   ]
  },
  {
   "cell_type": "code",
   "execution_count": 60,
   "id": "9b9dbae9-a19a-4df9-9778-785ce365e081",
   "metadata": {},
   "outputs": [
    {
     "name": "stdout",
     "output_type": "stream",
     "text": [
      "[('orange', 80), ('mango', 99), ('grapes', 1000)]\n"
     ]
    }
   ],
   "source": [
    "fruits = [(\"mango\", 99), (\"orange\", 80), (\"grapes\", 1000)]\n",
    "result = sorted(fruits, key=lambda x: x[1])\n",
    "print(result) # Output: [(\"orange\", 80), (\"mango\", 99), (\"grapes\", 1000)]\n"
   ]
  },
  {
   "cell_type": "code",
   "execution_count": 61,
   "id": "67d2dac3-665d-4902-9efa-6ac007d3364d",
   "metadata": {},
   "outputs": [
    {
     "name": "stdout",
     "output_type": "stream",
     "text": [
      "[1, 4, 9, 16, 25, 36, 49, 64, 81, 100]\n"
     ]
    }
   ],
   "source": [
    "result = [x**2 for x in range(1, 11)]\n",
    "print(result) # Output: [1, 4, 9, 16, 25, 36, 49, 64, 81, 100]\n"
   ]
  },
  {
   "cell_type": "code",
   "execution_count": 62,
   "id": "a5058a38-2695-488c-9d25-18d2fba18744",
   "metadata": {},
   "outputs": [
    {
     "name": "stdout",
     "output_type": "stream",
     "text": [
      "[1.0, 1.2599210498948732, 1.4422495703074083, 1.5874010519681994, 1.7099759466766968, 1.8171205928321397, 1.912931182772389, 2.0, 2.080083823051904, 2.154434690031884]\n"
     ]
    }
   ],
   "source": [
    "result = [pow(x, 1/3) for x in range(1, 11)]\n",
    "print(result) # Output: [1.0, 1.2599210498948732, 1.4422495703074083, 1.5874010519681994, 1.7099759466766968, 1.8171205928321397, 1.912931182772389, 2.0, 2.080083823051904, 2.154434690031884]\n"
   ]
  },
  {
   "cell_type": "code",
   "execution_count": 63,
   "id": "171848de-3912-47c7-89d8-61e50153e620",
   "metadata": {},
   "outputs": [
    {
     "name": "stdout",
     "output_type": "stream",
     "text": [
      "True\n"
     ]
    }
   ],
   "source": [
    "number = 4\n",
    "result = lambda number: number % 2 == 0\n",
    "print(result(number)) # Output: True\n"
   ]
  },
  {
   "cell_type": "code",
   "execution_count": 64,
   "id": "d1343a30-b286-402b-bbe1-357a69ef9064",
   "metadata": {},
   "outputs": [
    {
     "name": "stdout",
     "output_type": "stream",
     "text": [
      "[1, 3, 5, 7, 9]\n"
     ]
    }
   ],
   "source": [
    "numbers = [1, 2, 3, 4, 5, 6, 7, 8, 9, 10]\n",
    "result = list(filter(lambda x: x % 2 != 0, numbers))\n",
    "print(result) # Output: [1, 3, 5, 7, 9]\n"
   ]
  },
  {
   "cell_type": "code",
   "execution_count": null,
   "id": "1d7f0aab-5599-4ca3-b23d-376d1b0b11d2",
   "metadata": {},
   "outputs": [],
   "source": []
  }
 ],
 "metadata": {
  "kernelspec": {
   "display_name": "Python 3 (ipykernel)",
   "language": "python",
   "name": "python3"
  },
  "language_info": {
   "codemirror_mode": {
    "name": "ipython",
    "version": 3
   },
   "file_extension": ".py",
   "mimetype": "text/x-python",
   "name": "python",
   "nbconvert_exporter": "python",
   "pygments_lexer": "ipython3",
   "version": "3.10.8"
  }
 },
 "nbformat": 4,
 "nbformat_minor": 5
}
